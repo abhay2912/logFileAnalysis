{
 "cells": [
  {
   "cell_type": "code",
   "execution_count": null,
   "metadata": {
    "id": "eaK3DccQAvgu"
   },
   "outputs": [],
   "source": [
    "%%capture\n",
    "!pip install advertools\n",
    "!pip install opendatasets"
   ]
  },
  {
   "cell_type": "code",
   "execution_count": null,
   "metadata": {
    "colab": {
     "base_uri": "https://localhost:8080/"
    },
    "id": "MPBmL5FTSpzs",
    "outputId": "c6232960-dc51-4c08-a3ab-4fb1c8d6d72b"
   },
   "outputs": [],
   "source": [
    "import opendatasets as od\n",
    "import pandas\n",
    "# od.download(\"https://www.kaggle.com/datasets/eliasdabbas/web-server-access-logs\")"
   ]
  },
  {
   "cell_type": "code",
   "execution_count": null,
   "metadata": {
    "colab": {
     "base_uri": "https://localhost:8080/"
    },
    "id": "OsC5Nm3OUGy6",
    "outputId": "13c7ea3a-68cf-4902-d5d7-d15b5b8cb795"
   },
   "outputs": [],
   "source": [
    "import pandas as pd\n",
    "pd.options.display.max_columns = None\n",
    "import re\n",
    "import os\n",
    "import time\n",
    "from tqdm import tqdm\n",
    "\n",
    "# from dataset_utilities import value_counts_plus\n",
    "\n",
    "for dirname, _, filenames in os.walk('C:\\\\Users\\\\user\\\\Documents\\\\LogfileJuypter\\\\regressionTree'):\n",
    "    for filename in filenames:\n",
    "        print(os.path.join(dirname, filename))"
   ]
  },
  {
   "cell_type": "code",
   "execution_count": null,
   "metadata": {
    "colab": {
     "base_uri": "https://localhost:8080/"
    },
    "id": "zU4fWhdKU_pR",
    "outputId": "4b8fe7c1-fc2b-47a7-82c5-3cd34a3d0a76"
   },
   "outputs": [],
   "source": [
    "# !head -n 4 /content/web-server-access-logs/access.log"
   ]
  },
  {
   "cell_type": "code",
   "execution_count": null,
   "metadata": {
    "id": "gBwZiy85VbbC"
   },
   "outputs": [],
   "source": [
    "# There is a minor bug in this regex, it misses the last field. I'll fix this soon. \n",
    "\n",
    "common_regex = '^(?P<client>\\S+) \\S+ (?P<userid>\\S+) \\[(?P<datetime>[^\\]]+)\\] \"(?P<method>[A-Z]+) (?P<request>[^ \"]+)? HTTP/[0-9.]+\" (?P<status>[0-9]{3}) (?P<size>[0-9]+|-)'\n",
    "combined_regex = '^(?P<client>\\S+) \\S+ (?P<userid>\\S+) \\[(?P<datetime>[^\\]]+)\\] \"(?P<method>[A-Z]+) (?P<request>[^ \"]+)? HTTP/[0-9.]+\" (?P<status>[0-9]{3}) (?P<size>[0-9]+|-) \"(?P<referrer>[^\"]*)\" \"(?P<useragent>[^\"]*)'\n",
    "columns = ['ip', 'userid', 'datetime', 'method', 'request', 'status', 'size', 'referer', 'user_agent']"
   ]
  },
  {
   "cell_type": "code",
   "execution_count": null,
   "metadata": {
    "id": "otrre-XEV85a"
   },
   "outputs": [],
   "source": [
    "# %mkdir 'C:\\\\Users\\\\jayes\\\\OneDrive\\\\Desktop\\\\CSV and Datasets\\\\WebServer access log\\\\access.log\\\\parquet_dir'"
   ]
  },
  {
   "cell_type": "code",
   "execution_count": null,
   "metadata": {
    "id": "vgE52Qv-V_wO"
   },
   "outputs": [],
   "source": [
    "import time\n",
    "import re\n",
    "import pandas as pd\n",
    "\n",
    "\n",
    "def logs_to_df(logfile, output_dir, errors_file):\n",
    "    with open(logfile) as source_file:\n",
    "        linenumber = 0\n",
    "        parsed_lines = []\n",
    "        for line in tqdm(source_file):\n",
    "            try:\n",
    "                log_line = re.findall(combined_regex, line)[0]\n",
    "                parsed_lines.append(log_line)\n",
    "            except Exception as e:\n",
    "                with open(errors_file, 'at') as errfile:\n",
    "                    print((line, str(e)), file=errfile)\n",
    "                continue\n",
    "            linenumber += 1\n",
    "            if linenumber % 250_000 == 0:\n",
    "                df = pd.DataFrame(parsed_lines, columns=columns)\n",
    "                df.to_parquet(f'{output_dir}/file_{linenumber}.parquet')\n",
    "                parsed_lines.clear()\n",
    "        else:\n",
    "            df = pd.DataFrame(parsed_lines, columns=columns)\n",
    "            df.to_parquet(f'{output_dir}/file_{linenumber}.parquet')\n",
    "            parsed_lines.clear()"
   ]
  },
  {
   "cell_type": "code",
   "execution_count": null,
   "metadata": {
    "colab": {
     "base_uri": "https://localhost:8080/"
    },
    "id": "5SPcSLh5WHMC",
    "outputId": "c392cc86-4b7d-4c12-b4b5-e662d63cea5e"
   },
   "outputs": [],
   "source": [
    "# %%time\n",
    "logs_to_df(logfile=r'C:\\Users\\user\\Documents\\LogfileJuypter\\regressionTree\\access.log', output_dir=r'C:\\Users\\user\\Documents\\LogfileJuypter\\regressionTree\\parquet_dir', errors_file=r'C:\\Users\\user\\Documents\\LogfileJuypter\\regressionTree\\errors.txt')"
   ]
  },
  {
   "cell_type": "code",
   "execution_count": 47,
   "metadata": {
    "colab": {
     "base_uri": "https://localhost:8080/"
    },
    "id": "1ylDBejDWNUs",
    "outputId": "9e2bc383-d836-4b19-ba24-b5607428d0e0"
   },
   "outputs": [],
   "source": [
    "# !wc 'C:\\\\Users\\\\jayes\\\\OneDrive\\\\Desktop\\\\CSV and Datasets\\\\errors.txt'"
   ]
  },
  {
   "cell_type": "code",
   "execution_count": 6,
   "metadata": {
    "colab": {
     "base_uri": "https://localhost:8080/"
    },
    "id": "gt36RobmWrnd",
    "outputId": "580a9c08-d7a4-4fd0-86b5-19231fc9d09c"
   },
   "outputs": [],
   "source": [
    "# %%time \n",
    "logs_df = pd.read_parquet(r'C:\\Users\\jayes\\OneDrive\\Desktop\\CSV and Datasets\\parquet_dir\\\\')"
   ]
  },
  {
   "cell_type": "code",
   "execution_count": null,
   "metadata": {},
   "outputs": [],
   "source": []
  },
  {
   "cell_type": "code",
   "execution_count": 7,
   "metadata": {
    "colab": {
     "base_uri": "https://localhost:8080/"
    },
    "id": "JEtSL1TKWu1c",
    "outputId": "f16da4af-9203-42a2-8824-d22ac7804c9a"
   },
   "outputs": [
    {
     "name": "stderr",
     "output_type": "stream",
     "text": [
      "'du' is not recognized as an internal or external command,\n",
      "operable program or batch file.\n"
     ]
    }
   ],
   "source": [
    "!du -sh r'C:\\Users\\jayes\\OneDrive\\Desktop\\CSV and Datasets\\parquet_dir\\\\'"
   ]
  },
  {
   "cell_type": "code",
   "execution_count": 8,
   "metadata": {
    "colab": {
     "base_uri": "https://localhost:8080/"
    },
    "id": "G5kChf5vW0Lg",
    "outputId": "c01ec884-0b6f-4556-b848-becf4236c40a"
   },
   "outputs": [
    {
     "name": "stdout",
     "output_type": "stream",
     "text": [
      "<class 'pandas.core.frame.DataFrame'>\n",
      "RangeIndex: 10364865 entries, 0 to 10364864\n",
      "Data columns (total 9 columns):\n",
      " #   Column      Non-Null Count     Dtype \n",
      "---  ------      --------------     ----- \n",
      " 0   client      10364865 non-null  object\n",
      " 1   userid      10364865 non-null  object\n",
      " 2   datetime    10364865 non-null  object\n",
      " 3   method      10364865 non-null  object\n",
      " 4   request     10364865 non-null  object\n",
      " 5   status      10364865 non-null  object\n",
      " 6   size        10364865 non-null  object\n",
      " 7   referer     10364865 non-null  object\n",
      " 8   user_agent  10364865 non-null  object\n",
      "dtypes: object(9)\n",
      "memory usage: 711.7+ MB\n"
     ]
    }
   ],
   "source": [
    "logs_df.info(show_counts=True, verbose=True)"
   ]
  },
  {
   "cell_type": "code",
   "execution_count": 9,
   "metadata": {
    "id": "9G0s8J4MW3po"
   },
   "outputs": [
    {
     "name": "stderr",
     "output_type": "stream",
     "text": [
      "UsageError: Line magic function `%rm` not found.\n"
     ]
    }
   ],
   "source": [
    "%rm -r r'C:\\Users\\jayes\\OneDrive\\Desktop\\CSV and Datasets\\parquet_dir\\\\'\n"
   ]
  },
  {
   "cell_type": "code",
   "execution_count": 10,
   "metadata": {
    "id": "xuuDHdiyXFOb"
   },
   "outputs": [],
   "source": [
    "logs_df['client'] = logs_df['client'].astype('category')\n",
    "del logs_df['userid']\n",
    "logs_df['datetime'] = pd.to_datetime(logs_df['datetime'], format='%d/%b/%Y:%H:%M:%S %z')\n",
    "logs_df['method'] = logs_df['method'].astype('category')\n",
    "logs_df['status'] = logs_df['status'].astype('int16')\n",
    "logs_df['size'] = logs_df['size'].astype('int32')\n",
    "logs_df['referer'] = logs_df['referer'].astype('category')\n",
    "logs_df['user_agent'] = logs_df['user_agent'].astype('category')"
   ]
  },
  {
   "cell_type": "code",
   "execution_count": 11,
   "metadata": {
    "colab": {
     "base_uri": "https://localhost:8080/"
    },
    "id": "zsogw2kTXHkx",
    "outputId": "e2b17318-cf9a-44fe-a82e-e91bf3198a9f"
   },
   "outputs": [
    {
     "name": "stdout",
     "output_type": "stream",
     "text": [
      "<class 'pandas.core.frame.DataFrame'>\n",
      "RangeIndex: 10364865 entries, 0 to 10364864\n",
      "Data columns (total 8 columns):\n",
      " #   Column      Non-Null Count     Dtype                                \n",
      "---  ------      --------------     -----                                \n",
      " 0   client      10364865 non-null  category                             \n",
      " 1   datetime    10364865 non-null  datetime64[ns, pytz.FixedOffset(210)]\n",
      " 2   method      10364865 non-null  category                             \n",
      " 3   request     10364865 non-null  object                               \n",
      " 4   status      10364865 non-null  int16                                \n",
      " 5   size        10364865 non-null  int32                                \n",
      " 6   referer     10364865 non-null  category                             \n",
      " 7   user_agent  10364865 non-null  category                             \n",
      "dtypes: category(4), datetime64[ns, pytz.FixedOffset(210)](1), int16(1), int32(1), object(1)\n",
      "memory usage: 342.3+ MB\n"
     ]
    }
   ],
   "source": [
    "logs_df.info(verbose=True, show_counts=True)\n"
   ]
  },
  {
   "cell_type": "code",
   "execution_count": 12,
   "metadata": {
    "colab": {
     "base_uri": "https://localhost:8080/"
    },
    "id": "mJHtNgWKXPqa",
    "outputId": "cfd4d172-3680-4ae4-92a8-d3e82397db6e"
   },
   "outputs": [],
   "source": [
    "# %%time \n",
    "logs_df.to_parquet('logs_df.parquet')"
   ]
  },
  {
   "cell_type": "code",
   "execution_count": 13,
   "metadata": {
    "colab": {
     "base_uri": "https://localhost:8080/"
    },
    "id": "8xiVc9vmXS8X",
    "outputId": "a2c1f8ae-57de-4e5f-c30d-2964ee0620a3"
   },
   "outputs": [
    {
     "name": "stdout",
     "output_type": "stream",
     "text": [
      " Volume in drive C is OS\n",
      " Volume Serial Number is A935-1970\n",
      "\n",
      " Directory of c:\\Users\\jayes\\OneDrive\\Desktop\\CSV and Datasets\n",
      "\n"
     ]
    },
    {
     "name": "stderr",
     "output_type": "stream",
     "text": [
      "File Not Found\n"
     ]
    }
   ],
   "source": [
    "!dir -lshS"
   ]
  },
  {
   "cell_type": "code",
   "execution_count": 14,
   "metadata": {
    "colab": {
     "base_uri": "https://localhost:8080/"
    },
    "id": "fE7XlB1IXVc6",
    "outputId": "27479f93-c41c-43b5-b114-2d8a473d0835"
   },
   "outputs": [],
   "source": [
    "# %%time \n",
    "logs_df = pd.read_parquet('logs_df.parquet')"
   ]
  },
  {
   "cell_type": "code",
   "execution_count": 15,
   "metadata": {
    "colab": {
     "base_uri": "https://localhost:8080/"
    },
    "id": "xsyAoUp6XXY_",
    "outputId": "5eeb76e1-caaf-4f93-ea96-7d545a700915"
   },
   "outputs": [
    {
     "data": {
      "text/plain": [
       "(10364865, 8)"
      ]
     },
     "execution_count": 15,
     "metadata": {},
     "output_type": "execute_result"
    }
   ],
   "source": [
    "logs_df.shape"
   ]
  },
  {
   "cell_type": "code",
   "execution_count": 16,
   "metadata": {
    "colab": {
     "base_uri": "https://localhost:8080/",
     "height": 641
    },
    "id": "cdbby50LXcXn",
    "outputId": "ca4d5d26-f0f7-4684-f16c-b08477b98562"
   },
   "outputs": [
    {
     "data": {
      "text/html": [
       "<div>\n",
       "<style scoped>\n",
       "    .dataframe tbody tr th:only-of-type {\n",
       "        vertical-align: middle;\n",
       "    }\n",
       "\n",
       "    .dataframe tbody tr th {\n",
       "        vertical-align: top;\n",
       "    }\n",
       "\n",
       "    .dataframe thead th {\n",
       "        text-align: right;\n",
       "    }\n",
       "</style>\n",
       "<table border=\"1\" class=\"dataframe\">\n",
       "  <thead>\n",
       "    <tr style=\"text-align: right;\">\n",
       "      <th></th>\n",
       "      <th>client</th>\n",
       "      <th>datetime</th>\n",
       "      <th>method</th>\n",
       "      <th>request</th>\n",
       "      <th>status</th>\n",
       "      <th>size</th>\n",
       "      <th>referer</th>\n",
       "      <th>user_agent</th>\n",
       "    </tr>\n",
       "  </thead>\n",
       "  <tbody>\n",
       "    <tr>\n",
       "      <th>0</th>\n",
       "      <td>37.152.163.59</td>\n",
       "      <td>2019-01-22 12:38:27+03:30</td>\n",
       "      <td>GET</td>\n",
       "      <td>/image/29314?name=%D8%AF%DB%8C%D8%A8%D8%A7-7.j...</td>\n",
       "      <td>200</td>\n",
       "      <td>1105</td>\n",
       "      <td>https://www.zanbil.ir/product/29314/%DA%A9%D8%...</td>\n",
       "      <td>Mozilla/5.0 (Windows NT 6.1; WOW64; Trident/7....</td>\n",
       "    </tr>\n",
       "    <tr>\n",
       "      <th>1</th>\n",
       "      <td>37.152.163.59</td>\n",
       "      <td>2019-01-22 12:38:27+03:30</td>\n",
       "      <td>GET</td>\n",
       "      <td>/static/images/zanbil-kharid.png</td>\n",
       "      <td>200</td>\n",
       "      <td>358</td>\n",
       "      <td>https://www.zanbil.ir/product/29314/%DA%A9%D8%...</td>\n",
       "      <td>Mozilla/5.0 (Windows NT 6.1; WOW64; Trident/7....</td>\n",
       "    </tr>\n",
       "    <tr>\n",
       "      <th>2</th>\n",
       "      <td>85.9.73.119</td>\n",
       "      <td>2019-01-22 12:38:27+03:30</td>\n",
       "      <td>GET</td>\n",
       "      <td>/static/images/next.png</td>\n",
       "      <td>200</td>\n",
       "      <td>3045</td>\n",
       "      <td>https://znbl.ir/static/bundle-bundle_site_head...</td>\n",
       "      <td>Mozilla/5.0 (Windows NT 6.1; Win64; x64) Apple...</td>\n",
       "    </tr>\n",
       "    <tr>\n",
       "      <th>3</th>\n",
       "      <td>37.152.163.59</td>\n",
       "      <td>2019-01-22 12:38:27+03:30</td>\n",
       "      <td>GET</td>\n",
       "      <td>/image/29314?name=%D8%AF%DB%8C%D8%A8%D8%A7-4.j...</td>\n",
       "      <td>200</td>\n",
       "      <td>1457</td>\n",
       "      <td>https://www.zanbil.ir/product/29314/%DA%A9%D8%...</td>\n",
       "      <td>Mozilla/5.0 (Windows NT 6.1; WOW64; Trident/7....</td>\n",
       "    </tr>\n",
       "    <tr>\n",
       "      <th>4</th>\n",
       "      <td>85.9.73.119</td>\n",
       "      <td>2019-01-22 12:38:27+03:30</td>\n",
       "      <td>GET</td>\n",
       "      <td>/static/images/checked.png</td>\n",
       "      <td>200</td>\n",
       "      <td>1083</td>\n",
       "      <td>https://znbl.ir/static/bundle-bundle_site_head...</td>\n",
       "      <td>Mozilla/5.0 (Windows NT 6.1; Win64; x64) Apple...</td>\n",
       "    </tr>\n",
       "    <tr>\n",
       "      <th>...</th>\n",
       "      <td>...</td>\n",
       "      <td>...</td>\n",
       "      <td>...</td>\n",
       "      <td>...</td>\n",
       "      <td>...</td>\n",
       "      <td>...</td>\n",
       "      <td>...</td>\n",
       "      <td>...</td>\n",
       "    </tr>\n",
       "    <tr>\n",
       "      <th>10364860</th>\n",
       "      <td>86.104.110.254</td>\n",
       "      <td>2019-01-26 16:01:31+03:30</td>\n",
       "      <td>GET</td>\n",
       "      <td>/settings/logo</td>\n",
       "      <td>200</td>\n",
       "      <td>4120</td>\n",
       "      <td>https://www.zanbil.ir/m/browse/tv/%D8%AA%D9%84...</td>\n",
       "      <td>Mozilla/5.0 (iPhone; CPU iPhone OS 12_1 like M...</td>\n",
       "    </tr>\n",
       "    <tr>\n",
       "      <th>10364861</th>\n",
       "      <td>5.125.254.169</td>\n",
       "      <td>2019-01-26 16:01:31+03:30</td>\n",
       "      <td>GET</td>\n",
       "      <td>/image/5/brand</td>\n",
       "      <td>200</td>\n",
       "      <td>2171</td>\n",
       "      <td>https://www.zanbil.ir/m/filter/p62%2Cstexists</td>\n",
       "      <td>Mozilla/5.0 (iPhone; CPU iPhone OS 12_1_2 like...</td>\n",
       "    </tr>\n",
       "    <tr>\n",
       "      <th>10364862</th>\n",
       "      <td>65.49.68.192</td>\n",
       "      <td>2019-01-26 16:01:31+03:30</td>\n",
       "      <td>GET</td>\n",
       "      <td>/image/64646/productModel/150x150</td>\n",
       "      <td>200</td>\n",
       "      <td>5318</td>\n",
       "      <td>https://www.zanbil.ir/browse/audio-and-video-e...</td>\n",
       "      <td>Mozilla/5.0 (Windows NT 10.0; Win64; x64; rv:6...</td>\n",
       "    </tr>\n",
       "    <tr>\n",
       "      <th>10364863</th>\n",
       "      <td>5.125.254.169</td>\n",
       "      <td>2019-01-26 16:01:31+03:30</td>\n",
       "      <td>GET</td>\n",
       "      <td>/image/1/brand</td>\n",
       "      <td>200</td>\n",
       "      <td>3924</td>\n",
       "      <td>https://www.zanbil.ir/m/filter/p62%2Cstexists</td>\n",
       "      <td>Mozilla/5.0 (iPhone; CPU iPhone OS 12_1_2 like...</td>\n",
       "    </tr>\n",
       "    <tr>\n",
       "      <th>10364864</th>\n",
       "      <td>65.49.68.192</td>\n",
       "      <td>2019-01-26 16:01:31+03:30</td>\n",
       "      <td>GET</td>\n",
       "      <td>/image/56698/productModel/150x150</td>\n",
       "      <td>200</td>\n",
       "      <td>3570</td>\n",
       "      <td>https://www.zanbil.ir/browse/audio-and-video-e...</td>\n",
       "      <td>Mozilla/5.0 (Windows NT 10.0; Win64; x64; rv:6...</td>\n",
       "    </tr>\n",
       "  </tbody>\n",
       "</table>\n",
       "<p>10364865 rows × 8 columns</p>\n",
       "</div>"
      ],
      "text/plain": [
       "                  client                  datetime method  \\\n",
       "0          37.152.163.59 2019-01-22 12:38:27+03:30    GET   \n",
       "1          37.152.163.59 2019-01-22 12:38:27+03:30    GET   \n",
       "2            85.9.73.119 2019-01-22 12:38:27+03:30    GET   \n",
       "3          37.152.163.59 2019-01-22 12:38:27+03:30    GET   \n",
       "4            85.9.73.119 2019-01-22 12:38:27+03:30    GET   \n",
       "...                  ...                       ...    ...   \n",
       "10364860  86.104.110.254 2019-01-26 16:01:31+03:30    GET   \n",
       "10364861   5.125.254.169 2019-01-26 16:01:31+03:30    GET   \n",
       "10364862    65.49.68.192 2019-01-26 16:01:31+03:30    GET   \n",
       "10364863   5.125.254.169 2019-01-26 16:01:31+03:30    GET   \n",
       "10364864    65.49.68.192 2019-01-26 16:01:31+03:30    GET   \n",
       "\n",
       "                                                    request  status  size  \\\n",
       "0         /image/29314?name=%D8%AF%DB%8C%D8%A8%D8%A7-7.j...     200  1105   \n",
       "1                          /static/images/zanbil-kharid.png     200   358   \n",
       "2                                   /static/images/next.png     200  3045   \n",
       "3         /image/29314?name=%D8%AF%DB%8C%D8%A8%D8%A7-4.j...     200  1457   \n",
       "4                                /static/images/checked.png     200  1083   \n",
       "...                                                     ...     ...   ...   \n",
       "10364860                                     /settings/logo     200  4120   \n",
       "10364861                                     /image/5/brand     200  2171   \n",
       "10364862                  /image/64646/productModel/150x150     200  5318   \n",
       "10364863                                     /image/1/brand     200  3924   \n",
       "10364864                  /image/56698/productModel/150x150     200  3570   \n",
       "\n",
       "                                                    referer  \\\n",
       "0         https://www.zanbil.ir/product/29314/%DA%A9%D8%...   \n",
       "1         https://www.zanbil.ir/product/29314/%DA%A9%D8%...   \n",
       "2         https://znbl.ir/static/bundle-bundle_site_head...   \n",
       "3         https://www.zanbil.ir/product/29314/%DA%A9%D8%...   \n",
       "4         https://znbl.ir/static/bundle-bundle_site_head...   \n",
       "...                                                     ...   \n",
       "10364860  https://www.zanbil.ir/m/browse/tv/%D8%AA%D9%84...   \n",
       "10364861      https://www.zanbil.ir/m/filter/p62%2Cstexists   \n",
       "10364862  https://www.zanbil.ir/browse/audio-and-video-e...   \n",
       "10364863      https://www.zanbil.ir/m/filter/p62%2Cstexists   \n",
       "10364864  https://www.zanbil.ir/browse/audio-and-video-e...   \n",
       "\n",
       "                                                 user_agent  \n",
       "0         Mozilla/5.0 (Windows NT 6.1; WOW64; Trident/7....  \n",
       "1         Mozilla/5.0 (Windows NT 6.1; WOW64; Trident/7....  \n",
       "2         Mozilla/5.0 (Windows NT 6.1; Win64; x64) Apple...  \n",
       "3         Mozilla/5.0 (Windows NT 6.1; WOW64; Trident/7....  \n",
       "4         Mozilla/5.0 (Windows NT 6.1; Win64; x64) Apple...  \n",
       "...                                                     ...  \n",
       "10364860  Mozilla/5.0 (iPhone; CPU iPhone OS 12_1 like M...  \n",
       "10364861  Mozilla/5.0 (iPhone; CPU iPhone OS 12_1_2 like...  \n",
       "10364862  Mozilla/5.0 (Windows NT 10.0; Win64; x64; rv:6...  \n",
       "10364863  Mozilla/5.0 (iPhone; CPU iPhone OS 12_1_2 like...  \n",
       "10364864  Mozilla/5.0 (Windows NT 10.0; Win64; x64; rv:6...  \n",
       "\n",
       "[10364865 rows x 8 columns]"
      ]
     },
     "execution_count": 16,
     "metadata": {},
     "output_type": "execute_result"
    }
   ],
   "source": [
    "logs_df"
   ]
  },
  {
   "cell_type": "code",
   "execution_count": 21,
   "metadata": {},
   "outputs": [],
   "source": [
    "# arrtoex = pd.DataFrame(logs_df).T\n",
    "ArrtoExSliced = logs_df.iloc[:10000,0:]\n",
    "# ArrtoExSliced.to_excel(excel_writer = r\"C:\\Users\\jayes\\OneDrive\\Desktop\\CSV and Datasets\\Output\\convaccess.xlsx\\\\\")"
   ]
  },
  {
   "cell_type": "code",
   "execution_count": 27,
   "metadata": {},
   "outputs": [
    {
     "data": {
      "text/html": [
       "<div>\n",
       "<style scoped>\n",
       "    .dataframe tbody tr th:only-of-type {\n",
       "        vertical-align: middle;\n",
       "    }\n",
       "\n",
       "    .dataframe tbody tr th {\n",
       "        vertical-align: top;\n",
       "    }\n",
       "\n",
       "    .dataframe thead th {\n",
       "        text-align: right;\n",
       "    }\n",
       "</style>\n",
       "<table border=\"1\" class=\"dataframe\">\n",
       "  <thead>\n",
       "    <tr style=\"text-align: right;\">\n",
       "      <th></th>\n",
       "      <th>client</th>\n",
       "      <th>datetime</th>\n",
       "      <th>method</th>\n",
       "      <th>request</th>\n",
       "      <th>status</th>\n",
       "      <th>size</th>\n",
       "      <th>referer</th>\n",
       "      <th>user_agent</th>\n",
       "    </tr>\n",
       "  </thead>\n",
       "  <tbody>\n",
       "    <tr>\n",
       "      <th>0</th>\n",
       "      <td>37.152.163.59</td>\n",
       "      <td>2019-01-22 12:38:27+03:30</td>\n",
       "      <td>GET</td>\n",
       "      <td>/image/29314?name=%D8%AF%DB%8C%D8%A8%D8%A7-7.j...</td>\n",
       "      <td>200</td>\n",
       "      <td>1105</td>\n",
       "      <td>https://www.zanbil.ir/product/29314/%DA%A9%D8%...</td>\n",
       "      <td>Mozilla/5.0 (Windows NT 6.1; WOW64; Trident/7....</td>\n",
       "    </tr>\n",
       "    <tr>\n",
       "      <th>1</th>\n",
       "      <td>37.152.163.59</td>\n",
       "      <td>2019-01-22 12:38:27+03:30</td>\n",
       "      <td>GET</td>\n",
       "      <td>/static/images/zanbil-kharid.png</td>\n",
       "      <td>200</td>\n",
       "      <td>358</td>\n",
       "      <td>https://www.zanbil.ir/product/29314/%DA%A9%D8%...</td>\n",
       "      <td>Mozilla/5.0 (Windows NT 6.1; WOW64; Trident/7....</td>\n",
       "    </tr>\n",
       "    <tr>\n",
       "      <th>2</th>\n",
       "      <td>85.9.73.119</td>\n",
       "      <td>2019-01-22 12:38:27+03:30</td>\n",
       "      <td>GET</td>\n",
       "      <td>/static/images/next.png</td>\n",
       "      <td>200</td>\n",
       "      <td>3045</td>\n",
       "      <td>https://znbl.ir/static/bundle-bundle_site_head...</td>\n",
       "      <td>Mozilla/5.0 (Windows NT 6.1; Win64; x64) Apple...</td>\n",
       "    </tr>\n",
       "    <tr>\n",
       "      <th>3</th>\n",
       "      <td>37.152.163.59</td>\n",
       "      <td>2019-01-22 12:38:27+03:30</td>\n",
       "      <td>GET</td>\n",
       "      <td>/image/29314?name=%D8%AF%DB%8C%D8%A8%D8%A7-4.j...</td>\n",
       "      <td>200</td>\n",
       "      <td>1457</td>\n",
       "      <td>https://www.zanbil.ir/product/29314/%DA%A9%D8%...</td>\n",
       "      <td>Mozilla/5.0 (Windows NT 6.1; WOW64; Trident/7....</td>\n",
       "    </tr>\n",
       "    <tr>\n",
       "      <th>4</th>\n",
       "      <td>85.9.73.119</td>\n",
       "      <td>2019-01-22 12:38:27+03:30</td>\n",
       "      <td>GET</td>\n",
       "      <td>/static/images/checked.png</td>\n",
       "      <td>200</td>\n",
       "      <td>1083</td>\n",
       "      <td>https://znbl.ir/static/bundle-bundle_site_head...</td>\n",
       "      <td>Mozilla/5.0 (Windows NT 6.1; Win64; x64) Apple...</td>\n",
       "    </tr>\n",
       "    <tr>\n",
       "      <th>...</th>\n",
       "      <td>...</td>\n",
       "      <td>...</td>\n",
       "      <td>...</td>\n",
       "      <td>...</td>\n",
       "      <td>...</td>\n",
       "      <td>...</td>\n",
       "      <td>...</td>\n",
       "      <td>...</td>\n",
       "    </tr>\n",
       "    <tr>\n",
       "      <th>995</th>\n",
       "      <td>77.245.233.52</td>\n",
       "      <td>2019-01-22 12:38:55+03:30</td>\n",
       "      <td>GET</td>\n",
       "      <td>/site/searchAutoComplete?f=p11640&amp;phrase=%D9%8...</td>\n",
       "      <td>200</td>\n",
       "      <td>0</td>\n",
       "      <td>https://www.zanbil.ir/browse/sports/%D8%AA%D8%...</td>\n",
       "      <td>Mozilla/5.0 (Windows NT 6.1; rv:64.0) Gecko/20...</td>\n",
       "    </tr>\n",
       "    <tr>\n",
       "      <th>996</th>\n",
       "      <td>93.118.108.2</td>\n",
       "      <td>2019-01-22 12:38:55+03:30</td>\n",
       "      <td>GET</td>\n",
       "      <td>/plugins/ckeditor-3.6.2.2/js/ckeditor/ckeditor.js</td>\n",
       "      <td>302</td>\n",
       "      <td>0</td>\n",
       "      <td>https://www.zanbil.ir/product/33741/%D8%AA%D9%...</td>\n",
       "      <td>Mozilla/5.0 (Windows NT 10.0; Win64; x64; rv:6...</td>\n",
       "    </tr>\n",
       "    <tr>\n",
       "      <th>997</th>\n",
       "      <td>104.194.24.43</td>\n",
       "      <td>2019-01-22 12:38:55+03:30</td>\n",
       "      <td>GET</td>\n",
       "      <td>/image/1215/mainSlideMobile</td>\n",
       "      <td>200</td>\n",
       "      <td>69159</td>\n",
       "      <td>https://www.zanbil.ir/m/search/1264</td>\n",
       "      <td>Mozilla/5.0 (Linux; Android 6.0.1; SM-J700F) A...</td>\n",
       "    </tr>\n",
       "    <tr>\n",
       "      <th>998</th>\n",
       "      <td>104.194.24.43</td>\n",
       "      <td>2019-01-22 12:38:55+03:30</td>\n",
       "      <td>GET</td>\n",
       "      <td>/image/1210/mainSlideMobile</td>\n",
       "      <td>200</td>\n",
       "      <td>66326</td>\n",
       "      <td>https://www.zanbil.ir/m/search/1264</td>\n",
       "      <td>Mozilla/5.0 (Linux; Android 6.0.1; SM-J700F) A...</td>\n",
       "    </tr>\n",
       "    <tr>\n",
       "      <th>999</th>\n",
       "      <td>5.236.43.10</td>\n",
       "      <td>2019-01-22 12:38:55+03:30</td>\n",
       "      <td>GET</td>\n",
       "      <td>/image/1152/article/100x100</td>\n",
       "      <td>200</td>\n",
       "      <td>13514</td>\n",
       "      <td>https://www.zanbil.ir/article/148/%D9%BE%D9%88...</td>\n",
       "      <td>Mozilla/5.0 (Windows NT 10.0; Win64; x64) Appl...</td>\n",
       "    </tr>\n",
       "  </tbody>\n",
       "</table>\n",
       "<p>1000 rows × 8 columns</p>\n",
       "</div>"
      ],
      "text/plain": [
       "            client                  datetime method  \\\n",
       "0    37.152.163.59 2019-01-22 12:38:27+03:30    GET   \n",
       "1    37.152.163.59 2019-01-22 12:38:27+03:30    GET   \n",
       "2      85.9.73.119 2019-01-22 12:38:27+03:30    GET   \n",
       "3    37.152.163.59 2019-01-22 12:38:27+03:30    GET   \n",
       "4      85.9.73.119 2019-01-22 12:38:27+03:30    GET   \n",
       "..             ...                       ...    ...   \n",
       "995  77.245.233.52 2019-01-22 12:38:55+03:30    GET   \n",
       "996   93.118.108.2 2019-01-22 12:38:55+03:30    GET   \n",
       "997  104.194.24.43 2019-01-22 12:38:55+03:30    GET   \n",
       "998  104.194.24.43 2019-01-22 12:38:55+03:30    GET   \n",
       "999    5.236.43.10 2019-01-22 12:38:55+03:30    GET   \n",
       "\n",
       "                                               request  status   size  \\\n",
       "0    /image/29314?name=%D8%AF%DB%8C%D8%A8%D8%A7-7.j...     200   1105   \n",
       "1                     /static/images/zanbil-kharid.png     200    358   \n",
       "2                              /static/images/next.png     200   3045   \n",
       "3    /image/29314?name=%D8%AF%DB%8C%D8%A8%D8%A7-4.j...     200   1457   \n",
       "4                           /static/images/checked.png     200   1083   \n",
       "..                                                 ...     ...    ...   \n",
       "995  /site/searchAutoComplete?f=p11640&phrase=%D9%8...     200      0   \n",
       "996  /plugins/ckeditor-3.6.2.2/js/ckeditor/ckeditor.js     302      0   \n",
       "997                        /image/1215/mainSlideMobile     200  69159   \n",
       "998                        /image/1210/mainSlideMobile     200  66326   \n",
       "999                        /image/1152/article/100x100     200  13514   \n",
       "\n",
       "                                               referer  \\\n",
       "0    https://www.zanbil.ir/product/29314/%DA%A9%D8%...   \n",
       "1    https://www.zanbil.ir/product/29314/%DA%A9%D8%...   \n",
       "2    https://znbl.ir/static/bundle-bundle_site_head...   \n",
       "3    https://www.zanbil.ir/product/29314/%DA%A9%D8%...   \n",
       "4    https://znbl.ir/static/bundle-bundle_site_head...   \n",
       "..                                                 ...   \n",
       "995  https://www.zanbil.ir/browse/sports/%D8%AA%D8%...   \n",
       "996  https://www.zanbil.ir/product/33741/%D8%AA%D9%...   \n",
       "997                https://www.zanbil.ir/m/search/1264   \n",
       "998                https://www.zanbil.ir/m/search/1264   \n",
       "999  https://www.zanbil.ir/article/148/%D9%BE%D9%88...   \n",
       "\n",
       "                                            user_agent  \n",
       "0    Mozilla/5.0 (Windows NT 6.1; WOW64; Trident/7....  \n",
       "1    Mozilla/5.0 (Windows NT 6.1; WOW64; Trident/7....  \n",
       "2    Mozilla/5.0 (Windows NT 6.1; Win64; x64) Apple...  \n",
       "3    Mozilla/5.0 (Windows NT 6.1; WOW64; Trident/7....  \n",
       "4    Mozilla/5.0 (Windows NT 6.1; Win64; x64) Apple...  \n",
       "..                                                 ...  \n",
       "995  Mozilla/5.0 (Windows NT 6.1; rv:64.0) Gecko/20...  \n",
       "996  Mozilla/5.0 (Windows NT 10.0; Win64; x64; rv:6...  \n",
       "997  Mozilla/5.0 (Linux; Android 6.0.1; SM-J700F) A...  \n",
       "998  Mozilla/5.0 (Linux; Android 6.0.1; SM-J700F) A...  \n",
       "999  Mozilla/5.0 (Windows NT 10.0; Win64; x64) Appl...  \n",
       "\n",
       "[1000 rows x 8 columns]"
      ]
     },
     "execution_count": 27,
     "metadata": {},
     "output_type": "execute_result"
    }
   ],
   "source": [
    "ArrtoExSliced"
   ]
  },
  {
   "cell_type": "code",
   "execution_count": 22,
   "metadata": {},
   "outputs": [],
   "source": [
    "arrtoex = pd.DataFrame(ArrtoExSliced).T"
   ]
  },
  {
   "cell_type": "code",
   "execution_count": 45,
   "metadata": {},
   "outputs": [
    {
     "data": {
      "text/plain": [
       "client                                            37.152.163.59\n",
       "datetime                              2019-01-22 12:38:27+03:30\n",
       "method                                                      GET\n",
       "request       /image/29314?name=%D8%AF%DB%8C%D8%A8%D8%A7-7.j...\n",
       "status                                                      200\n",
       "size                                                       1105\n",
       "referer       https://www.zanbil.ir/product/29314/%DA%A9%D8%...\n",
       "user_agent    Mozilla/5.0 (Windows NT 6.1; WOW64; Trident/7....\n",
       "Name: 0, dtype: object"
      ]
     },
     "execution_count": 45,
     "metadata": {},
     "output_type": "execute_result"
    }
   ],
   "source": [
    "arrtoex[0]"
   ]
  },
  {
   "cell_type": "code",
   "execution_count": 24,
   "metadata": {},
   "outputs": [],
   "source": [
    "colarr = ['Client', 'DateTime', 'Method', 'Request', 'Status', 'Size', 'Referer', 'User_Agent']\n",
    "import xlsxwriter\n",
    "workbook = xlsxwriter.Workbook(r'C:\\Users\\jayes\\OneDrive\\Desktop\\CSV and Datasets\\Output\\CSVlog10K.xlsx')\n",
    "worksheet = workbook.add_worksheet()\n",
    "for i in range(0,8):\n",
    "     worksheet.write(0,i,str(colarr[i]))\n",
    "workbook.close()"
   ]
  },
  {
   "cell_type": "code",
   "execution_count": 25,
   "metadata": {},
   "outputs": [],
   "source": [
    "import xlsxwriter\n",
    "workbook = xlsxwriter.Workbook(r'C:\\Users\\jayes\\OneDrive\\Desktop\\CSV and Datasets\\Output\\CSVlog10K.xlsx')\n",
    "row = 0\n",
    "colarr = ['Client', 'DateTime', 'Method', 'Request', 'Status', 'Size', 'Referer', 'User_Agent']\n",
    "worksheet = workbook.add_worksheet()\n",
    "for i in range(0,8):\n",
    "     worksheet.write(0,i,str(colarr[i]))\n",
    "for i in range(1,len(ArrtoExSliced)):\n",
    "     for j in range(0,8):\n",
    "        worksheet.write(i,j,str(arrtoex[i][j]))\n",
    "workbook.close()"
   ]
  },
  {
   "cell_type": "code",
   "execution_count": 52,
   "metadata": {},
   "outputs": [],
   "source": [
    "# arrtoex.to_excel(excel_writer = r\"C:\\Users\\jayes\\OneDrive\\Desktop\\CSV and Datasets\\Output\\convaccess.xlsx\\\\\")"
   ]
  },
  {
   "cell_type": "code",
   "execution_count": 78,
   "metadata": {},
   "outputs": [
    {
     "data": {
      "text/plain": [
       "'37.152.163.59'"
      ]
     },
     "execution_count": 78,
     "metadata": {},
     "output_type": "execute_result"
    }
   ],
   "source": [
    "arrtoex[0][0]"
   ]
  },
  {
   "cell_type": "code",
   "execution_count": null,
   "metadata": {},
   "outputs": [],
   "source": []
  }
 ],
 "metadata": {
  "colab": {
   "provenance": []
  },
  "kernelspec": {
   "display_name": "Python 3 (ipykernel)",
   "language": "python",
   "name": "python3"
  },
  "language_info": {
   "codemirror_mode": {
    "name": "ipython",
    "version": 3
   },
   "file_extension": ".py",
   "mimetype": "text/x-python",
   "name": "python",
   "nbconvert_exporter": "python",
   "pygments_lexer": "ipython3",
   "version": "3.10.4"
  },
  "vscode": {
   "interpreter": {
    "hash": "e7f70cd600ec7f327861b696d115b49712d284fba6bfea9b0b3e54f3f74a6aaf"
   }
  }
 },
 "nbformat": 4,
 "nbformat_minor": 1
}
